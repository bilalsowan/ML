{
  "nbformat": 4,
  "nbformat_minor": 0,
  "metadata": {
    "colab": {
      "provenance": [],
      "authorship_tag": "ABX9TyOj5vDPK4phhF/MqINdbyBB",
      "include_colab_link": true
    },
    "kernelspec": {
      "name": "python3",
      "display_name": "Python 3"
    },
    "language_info": {
      "name": "python"
    }
  },
  "cells": [
    {
      "cell_type": "markdown",
      "metadata": {
        "id": "view-in-github",
        "colab_type": "text"
      },
      "source": [
        "<a href=\"https://colab.research.google.com/github/bilalsowan/ML/blob/main/Naive_Bayes_classifier.ipynb\" target=\"_parent\"><img src=\"https://colab.research.google.com/assets/colab-badge.svg\" alt=\"Open In Colab\"/></a>"
      ]
    },
    {
      "cell_type": "code",
      "execution_count": 3,
      "metadata": {
        "colab": {
          "base_uri": "https://localhost:8080/"
        },
        "id": "QoHsJS1nCaQV",
        "outputId": "842157cd-c89d-4cde-f220-2fa2cbe4c1d1"
      },
      "outputs": [
        {
          "output_type": "stream",
          "name": "stdout",
          "text": [
            "Accuracy: 1.0\n"
          ]
        }
      ],
      "source": [
        "import numpy as np\n",
        "from sklearn.model_selection import train_test_split\n",
        "from sklearn.naive_bayes import GaussianNB\n",
        "from sklearn.metrics import accuracy_score\n",
        "\n",
        "# Sample data (replace with your actual data)\n",
        "X = np.array([[1, 2], [2, 3], [3, 4], [4, 5], [5, 6], [6,7], [7,8], [8,9], [9,10], [10,11]])  # Features\n",
        "y = np.array([0, 0, 0, 1, 1, 1, 0, 0, 1, 1])  # Labels\n",
        "\n",
        "# Split data into training and testing sets\n",
        "X_train, X_test, y_train, y_test = train_test_split(X, y, test_size=0.2, random_state=42)\n",
        "\n",
        "\n",
        "# Initialize and train the Gaussian Naive Bayes classifier\n",
        "gnb = GaussianNB()\n",
        "gnb.fit(X_train, y_train)\n",
        "\n",
        "# Make predictions on the test set\n",
        "y_pred = gnb.predict(X_test)\n",
        "\n",
        "# Calculate the accuracy\n",
        "accuracy = accuracy_score(y_test, y_pred)\n",
        "print(f\"Accuracy: {accuracy}\")\n",
        "\n",
        "#Naive Bayes Formula Explanation\n",
        "#For a given data point x and class C, the probability that x belongs to C is calculated using Bayes' theorem:\n",
        "#P(C|x) = (P(x|C) * P(C)) / P(x)\n",
        "\n",
        "#Where:\n",
        "#P(C|x): Posterior probability - the probability of class C given the data point x.\n",
        "#P(x|C): Likelihood - the probability of observing the data point x given class C.\n",
        "#P(C): Prior probability - the prior probability of class C.\n",
        "#P(x): Evidence - the probability of observing the data point x (marginal likelihood)\n",
        "\n",
        "#In Gaussian Naive Bayes, the likelihood is assumed to follow a Gaussian (normal) distribution.\n",
        "#The accuracy is simply the ratio of correctly classified instances to the total number of instances in the test set\n",
        "# Accuracy = (Number of correctly classified instances) / (Total number of instances in the test set)"
      ]
    }
  ]
}